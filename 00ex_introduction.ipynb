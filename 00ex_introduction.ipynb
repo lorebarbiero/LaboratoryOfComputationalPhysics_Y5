{
 "cells": [
  {
   "cell_type": "markdown",
   "metadata": {},
   "source": [
    "1. The MickeyMouse problem\n",
    "\n",
    "a) Write a program that prints the numbers from 1 to 100. But for multiples of 3 print `Mickey` instead of the corresponding number and for the multiples of 5 print `Mouse`. For numbers which are multiples of both three and five print `MickeyMouse`\n",
    "\n",
    "b) Put the result in a tuple and substitute `Mickey` with `Donald` and `Mouse` with `Duck`"
   ]
  },
  {
   "cell_type": "code",
   "execution_count": 22,
   "metadata": {},
   "outputs": [
    {
     "name": "stdout",
     "output_type": "stream",
     "text": [
      "[1, 2, 'Donald', 4, 'Duck', 'Donald', 7, 8, 'Donald', 'Duck', 11, 'Donald', 13, 14, 'Donald Duck', 16, 17, 'Donald', 19, 'Duck', 'Donald', 22, 23, 'Donald', 'Duck', 26, 'Donald', 28, 29, 'Donald Duck', 31, 32, 'Donald', 34, 'Duck', 'Donald', 37, 38, 'Donald', 'Duck', 41, 'Donald', 43, 44, 'Donald Duck', 46, 47, 'Donald', 49, 'Duck', 'Donald', 52, 53, 'Donald', 'Duck', 56, 'Donald', 58, 59, 'Donald Duck', 61, 62, 'Donald', 64, 'Duck', 'Donald', 67, 68, 'Donald', 'Duck', 71, 'Donald', 73, 74, 'Donald Duck', 76, 77, 'Donald', 79, 'Duck', 'Donald', 82, 83, 'Donald', 'Duck', 86, 'Donald', 88, 89, 'Donald Duck', 91, 92, 'Donald', 94, 'Duck', 'Donald', 97, 98, 'Donald', 'Duck']\n",
      "(1, 2, 'Donald', 4, 'Duck', 'Donald', 7, 8, 'Donald', 'Duck', 11, 'Donald', 13, 14, 'Donald Duck', 16, 17, 'Donald', 19, 'Duck', 'Donald', 22, 23, 'Donald', 'Duck', 26, 'Donald', 28, 29, 'Donald Duck', 31, 32, 'Donald', 34, 'Duck', 'Donald', 37, 38, 'Donald', 'Duck', 41, 'Donald', 43, 44, 'Donald Duck', 46, 47, 'Donald', 49, 'Duck', 'Donald', 52, 53, 'Donald', 'Duck', 56, 'Donald', 58, 59, 'Donald Duck', 61, 62, 'Donald', 64, 'Duck', 'Donald', 67, 68, 'Donald', 'Duck', 71, 'Donald', 73, 74, 'Donald Duck', 76, 77, 'Donald', 79, 'Duck', 'Donald', 82, 83, 'Donald', 'Duck', 86, 'Donald', 88, 89, 'Donald Duck', 91, 92, 'Donald', 94, 'Duck', 'Donald', 97, 98, 'Donald', 'Duck')\n"
     ]
    }
   ],
   "source": [
    "a = [i for i in range (1,101)]\n",
    "#print (a)\n",
    "for i in range (0,100):\n",
    "    if a[i]%15==0:\n",
    "        a[i]=\"Mickey Mouse\"\n",
    "    elif a[i]%3==0:\n",
    "        a[i]=\"Mickey\"\n",
    "    elif a[i]%5==0:\n",
    "        a[i]=\"Mouse\"\n",
    "for i in range (0,100):\n",
    "    if type(a[i]) == str:\n",
    "        a[i]=a[i].replace (\"Mickey\",\"Donald\")\n",
    "        a[i]=a[i].replace (\"Mouse\",\"Duck\")\n",
    "\n",
    "b = tuple(a)\n",
    "\n",
    "'''for i in range (0,100):\n",
    "     if a[i]==\"Mickey\":\n",
    "        a[i]=\"Mickey Mouse\"\n",
    "    elif a[i]%3==0:\n",
    "        a[i]=\"Mickey\"\n",
    "    elif a[i]%5==0:\n",
    "        a[i]=\"Mouse\"'''\n",
    "print (a)\n",
    "print (b)"
   ]
  },
  {
   "cell_type": "markdown",
   "metadata": {},
   "source": [
    "2\\. The swap function\n",
    "\n",
    "Write a function that swaps the values of two input variables x and y (whatever the type). Try to do that also without a temporary variable"
   ]
  },
  {
   "cell_type": "code",
   "execution_count": 23,
   "metadata": {},
   "outputs": [
    {
     "name": "stdout",
     "output_type": "stream",
     "text": [
      "4 2\n"
     ]
    }
   ],
   "source": [
    "a,b = 2,4\n",
    "a,b = b,a\n",
    "print (a,b)"
   ]
  },
  {
   "cell_type": "markdown",
   "metadata": {},
   "source": [
    "3\\. Computing the distance\n",
    "\n",
    "Write a function that calculates and returns the euclidean distance between two points *u* and *v*, where *u* and *v* are both 2-tuples *(x,y)*. For example, if *u=(3,0)* and *v=(0,4)*, the function should return 5"
   ]
  },
  {
   "cell_type": "code",
   "execution_count": 25,
   "metadata": {},
   "outputs": [
    {
     "name": "stdout",
     "output_type": "stream",
     "text": [
      "5.0\n"
     ]
    }
   ],
   "source": [
    "A,B = (3,0),(0,4)\n",
    "d = pow (pow(A[0]-B[0],2)+pow(A[1]-B[1],2),0.5)\n",
    "print (d)"
   ]
  },
  {
   "cell_type": "markdown",
   "metadata": {},
   "source": [
    "4\\. Counting letters\n",
    "\n",
    "Write a program to calculate the number of times each character occurs in a given string *s*. Ignore differneces in capitalization"
   ]
  },
  {
   "cell_type": "code",
   "execution_count": 41,
   "metadata": {},
   "outputs": [
    {
     "name": "stdout",
     "output_type": "stream",
     "text": [
      "w 2\n",
      "r 17\n",
      "i 14\n",
      "t 19\n",
      "e 22\n",
      "  41\n",
      "a 7\n",
      "p 8\n",
      "o 13\n",
      "g 1\n",
      "m 12\n",
      "h 9\n",
      "n 10\n",
      "s 9\n",
      "u 9\n",
      "b 5\n",
      "f 10\n",
      "1 2\n",
      "0 2\n",
      ". 2\n",
      "l 6\n",
      "c 3\n",
      "k 2\n",
      "y 2\n",
      "d 3\n",
      "v 2\n"
     ]
    }
   ],
   "source": [
    "s=\"Write a program that prints the numbers from 1 to 100. \\\n",
    "But for multiples of three print Mickey instead of the number and for the multiples of five print Mouse. \\\n",
    "For numbers which are multiples of both three and five print MickeyMouse\".lower()\n",
    "#c = [x for x in s]\n",
    "a=[]\n",
    "for x in s:\n",
    "    if x not in a:\n",
    "        print(x,s.count(x))\n",
    "        a.append(x)\n",
    "    "
   ]
  },
  {
   "cell_type": "markdown",
   "metadata": {},
   "source": [
    "5\\. Isolating the unique\n",
    "\n",
    "Write a function that determines and count the unique numbers in the list *l*"
   ]
  },
  {
   "cell_type": "code",
   "execution_count": 29,
   "metadata": {},
   "outputs": [
    {
     "name": "stdout",
     "output_type": "stream",
     "text": [
      "58 1\n",
      "74 1\n",
      "96 1\n",
      "64 1\n",
      "10 1\n",
      "24 1\n",
      "19 1\n",
      "33 1\n",
      "86 1\n",
      "99 1\n",
      "18 1\n",
      "47 1\n",
      "88 1\n",
      "55 1\n",
      "54 1\n",
      "8 1\n",
      "79 1\n",
      "81 1\n",
      "57 1\n",
      "37 1\n",
      "1 1\n",
      "9 1\n",
      "95 1\n",
      "90 1\n",
      "98 1\n",
      "39 1\n",
      "16 1\n",
      "82 1\n",
      "92 1\n",
      "41 1\n",
      "30 1\n",
      "94 1\n",
      "5 1\n",
      "72 1\n",
      "87 1\n",
      "75 1\n",
      "53 1\n"
     ]
    }
   ],
   "source": [
    "l = [36, 45, 58, 3, 74, 96, 64, 45, 31, 10, 24, 19, 33, 86, 99, 18, 63, 70, 85,\n",
    " 85, 63, 47, 56, 42, 70, 84, 88, 55, 20, 54, 8, 56, 51, 79, 81, 57, 37, 91,\n",
    " 1, 84, 84, 36, 66, 9, 89, 50, 42, 91, 50, 95, 90, 98, 39, 16, 82, 31, 92, 41,\n",
    " 45, 30, 66, 70, 34, 85, 94, 5, 3, 36, 72, 91, 84, 34, 87, 75, 53, 51, 20, 89, 51, 20]\n",
    "\n",
    "for x in l:\n",
    "    d=0\n",
    "    for y in l:\n",
    "        if x==y:\n",
    "            d +=1\n",
    "    if d == 1:\n",
    "        print (x,d)"
   ]
  },
  {
   "cell_type": "markdown",
   "metadata": {},
   "source": [
    "6\\. Combination of functions\n",
    "\n",
    "Write two functions - one that returns the square of a number, and one that returns the cube. Now write a third function that returns the number raised to the 6th power using the two previous functions."
   ]
  },
  {
   "cell_type": "code",
   "execution_count": 44,
   "metadata": {
    "scrolled": true
   },
   "outputs": [
    {
     "name": "stdout",
     "output_type": "stream",
     "text": [
      "4 8 64\n"
     ]
    }
   ],
   "source": [
    "def square(a):\n",
    "    s = pow(a,2)\n",
    "    return s\n",
    "def cube(a):\n",
    "    c = pow(a,3)\n",
    "    return c\n",
    "def sixth(a):\n",
    "    x=square(cube(a))\n",
    "    return x\n",
    "\n",
    "print (square(2),cube(2),sixth(2))"
   ]
  },
  {
   "cell_type": "markdown",
   "metadata": {},
   "source": [
    "7\\. Cubes\n",
    "\n",
    "Create a list of the cubes of x for x in *[0, 10]* using:\n",
    "\n",
    "a) a for loop\n",
    "\n",
    "b) a list comprehension"
   ]
  },
  {
   "cell_type": "code",
   "execution_count": 52,
   "metadata": {},
   "outputs": [
    {
     "name": "stdout",
     "output_type": "stream",
     "text": [
      "[1, 8, 27, 64, 125, 216, 343, 512, 729, 1000]\n",
      "[1, 8, 27, 64, 125, 216, 343, 512, 729, 1000]\n"
     ]
    }
   ],
   "source": [
    "c = [i**3 for i in range (1,11)]\n",
    "print (c)\n",
    "d = []\n",
    "for i in range (1,11):\n",
    "    d.append(i**3)\n",
    "print (d)\n",
    "    "
   ]
  },
  {
   "cell_type": "markdown",
   "metadata": {},
   "source": [
    "8\\. Nested list comprehension\n",
    "\n",
    "A Pythagorean triple is an integer solution to the Pythagorean theorem $a^2+b^2=c^2$. The first Pythagorean triple is (3,4,5). Find and put in a tuple all unique Pythagorean triples for the positive integers a, b and c less than 100."
   ]
  },
  {
   "cell_type": "code",
   "execution_count": 61,
   "metadata": {},
   "outputs": [
    {
     "name": "stdout",
     "output_type": "stream",
     "text": [
      "(3, 4, 5.0, 4, 3, 5.0, 5, 12, 13.0, 6, 8, 10.0, 7, 24, 25.0, 8, 6, 10.0, 8, 15, 17.0, 9, 12, 15.0, 9, 40, 41.0, 10, 24, 26.0, 11, 60, 61.0, 12, 5, 13.0, 12, 9, 15.0, 12, 16, 20.0, 12, 35, 37.0, 13, 84, 85.0, 14, 48, 50.0, 15, 8, 17.0, 15, 20, 25.0, 15, 36, 39.0, 16, 12, 20.0, 16, 30, 34.0, 16, 63, 65.0, 18, 24, 30.0, 18, 80, 82.0, 20, 15, 25.0, 20, 21, 29.0, 20, 48, 52.0, 21, 20, 29.0, 21, 28, 35.0, 21, 72, 75.0, 24, 7, 25.0, 24, 10, 26.0, 24, 18, 30.0, 24, 32, 40.0, 24, 45, 51.0, 24, 70, 74.0, 25, 60, 65.0, 27, 36, 45.0, 28, 21, 35.0, 28, 45, 53.0, 30, 16, 34.0, 30, 40, 50.0, 30, 72, 78.0, 32, 24, 40.0, 32, 60, 68.0, 33, 44, 55.0, 33, 56, 65.0, 35, 12, 37.0, 35, 84, 91.0, 36, 15, 39.0, 36, 27, 45.0, 36, 48, 60.0, 36, 77, 85.0, 39, 52, 65.0, 39, 80, 89.0, 40, 9, 41.0, 40, 30, 50.0, 40, 42, 58.0, 40, 75, 85.0, 42, 40, 58.0, 42, 56, 70.0, 44, 33, 55.0, 45, 24, 51.0, 45, 28, 53.0, 45, 60, 75.0, 48, 14, 50.0, 48, 20, 52.0, 48, 36, 60.0, 48, 55, 73.0, 48, 64, 80.0, 51, 68, 85.0, 52, 39, 65.0, 54, 72, 90.0, 55, 48, 73.0, 56, 33, 65.0, 56, 42, 70.0, 57, 76, 95.0, 60, 11, 61.0, 60, 25, 65.0, 60, 32, 68.0, 60, 45, 75.0, 60, 63, 87.0, 63, 16, 65.0, 63, 60, 87.0, 64, 48, 80.0, 65, 72, 97.0, 68, 51, 85.0, 70, 24, 74.0, 72, 21, 75.0, 72, 30, 78.0, 72, 54, 90.0, 72, 65, 97.0, 75, 40, 85.0, 76, 57, 95.0, 77, 36, 85.0, 80, 18, 82.0, 80, 39, 89.0, 84, 13, 85.0, 84, 35, 91.0)\n"
     ]
    }
   ],
   "source": [
    "t = []\n",
    "for a in range (1,101):\n",
    "    for b in range (1,101):\n",
    "        c = ((a**2+b**2)**0.5)\n",
    "        if c < 100:\n",
    "            if c == int(c):\n",
    "                t.append(a)\n",
    "                t.append(b)\n",
    "                t.append(c)\n",
    "k = tuple(t)\n",
    "print (k)"
   ]
  },
  {
   "cell_type": "markdown",
   "metadata": {},
   "source": [
    "9\\. Normalization\n",
    "\n",
    "Write a function that takes a tuple of numbers and returns it with the entries normalized to one"
   ]
  },
  {
   "cell_type": "code",
   "execution_count": 73,
   "metadata": {},
   "outputs": [
    {
     "name": "stdout",
     "output_type": "stream",
     "text": [
      "2\n",
      "1.4142135623730951\n",
      "[0.7071067811865475, 0.0, 0.7071067811865475]\n"
     ]
    }
   ],
   "source": [
    "def norm(a):\n",
    "    d=0\n",
    "    for i in a:\n",
    "        d += i**2\n",
    "    d = d**(1/2)\n",
    "    b = []\n",
    "    for i in a:\n",
    "        b.append(i/d)\n",
    "    return b\n",
    "print (norm((1,0,1)))"
   ]
  },
  {
   "cell_type": "code",
   "execution_count": null,
   "metadata": {},
   "outputs": [],
   "source": []
  }
 ],
 "metadata": {
  "kernelspec": {
   "display_name": "Python 3 (ipykernel)",
   "language": "python",
   "name": "python3"
  },
  "language_info": {
   "codemirror_mode": {
    "name": "ipython",
    "version": 3
   },
   "file_extension": ".py",
   "mimetype": "text/x-python",
   "name": "python",
   "nbconvert_exporter": "python",
   "pygments_lexer": "ipython3",
   "version": "3.9.12"
  }
 },
 "nbformat": 4,
 "nbformat_minor": 2
}
