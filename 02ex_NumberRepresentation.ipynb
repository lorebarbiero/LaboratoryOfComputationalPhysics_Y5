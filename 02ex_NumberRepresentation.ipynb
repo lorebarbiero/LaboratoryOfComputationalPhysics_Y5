{
 "cells": [
  {
   "cell_type": "markdown",
   "metadata": {},
   "source": [
    "1\\. Write a function that converts number representation, bin<->dec<->hex. (Clearly using the corresponding python built-in functions is not fair..)"
   ]
  },
  {
   "cell_type": "code",
   "execution_count": 121,
   "metadata": {},
   "outputs": [
    {
     "name": "stdout",
     "output_type": "stream",
     "text": [
      "['D']\n",
      "base 2 = 1101 base 16 = D\n"
     ]
    }
   ],
   "source": [
    "#\"\".join(list)\n",
    "def bidec(N,b1,b2):\n",
    "    a=str(N)\n",
    "    ch = [x for x in a]\n",
    "    ch.reverse()\n",
    "    n=0   \n",
    "    i=0\n",
    "    for x in ch:\n",
    "        n += int(x) * 2**(i)\n",
    "        i+=1\n",
    "    return n\n",
    "\n",
    "def decbin(N,b1,b2):\n",
    "    b=[]\n",
    "    i=0\n",
    "    while (N > 0):\n",
    "        b.append(N%2)\n",
    "        N = N//2\n",
    "        i+=1\n",
    "    b.reverse()\n",
    "    #print(b)\n",
    "    n=''.join(str(x) for x in b)\n",
    "    #print(n)\n",
    "    n = int(n)\n",
    "    return n\n",
    "\n",
    "def dechex(N,b1,b2):\n",
    "    b=[]\n",
    "    i=0\n",
    "    while (N > 0):\n",
    "        if N%16 == 10: \n",
    "            b.append('A')\n",
    "        elif N%16 == 11: \n",
    "            b.append('B')\n",
    "        elif N%16 == 12: \n",
    "            b.append('C')\n",
    "        elif N%16 == 13: \n",
    "            b.append('D')\n",
    "        elif N%16 == 14: \n",
    "            b.append('E')\n",
    "        elif N%16 == 15: \n",
    "            b.append('F')\n",
    "        else:\n",
    "            b.append(N%16)\n",
    "        N = N//16\n",
    "        i+=1\n",
    "    b.reverse()\n",
    "    print(b)\n",
    "    n=''.join(str(x) for x in b)\n",
    "    #print(n)\n",
    "    #n = int(n)\n",
    "    return n\n",
    "\n",
    "def conv(N,b1,b2):\n",
    "    if b1==b2:\n",
    "        print(\"No conversion necessary\")\n",
    "    elif b1==2 and b2==10:\n",
    "        n = bidec(N,b1,b2) \n",
    "        print('base 2 =',N,'base 10 =',n)\n",
    "    elif b1==10 and b2==2:\n",
    "        n = decbin(N,b1,b2)\n",
    "        print('base 10 =',N,'base 2 =',n)\n",
    "    elif b1==10 and b2==16:\n",
    "        n = dechex(N,b1,b2)\n",
    "        print('base 10 =',N,'base 16 =',n)\n",
    "    elif b1==2 and b2==16:\n",
    "        a = bidec(N,b1,b2)\n",
    "        n = dechex(a,b1,b2)\n",
    "        print('base 2 =',N,'base 16 =',n)\n",
    "        \n",
    "conv(1101,2,16)"
   ]
  },
  {
   "cell_type": "markdown",
   "metadata": {},
   "source": [
    "2\\. Write a function that converts a 32 bit word into a single precision floating point (i.e. interprets the various bits as sign, mantissa and exponent)"
   ]
  },
  {
   "cell_type": "code",
   "execution_count": null,
   "metadata": {},
   "outputs": [],
   "source": [
    "def fp(n)\n",
    "    a = [x for x in n]\n",
    "    "
   ]
  },
  {
   "cell_type": "markdown",
   "metadata": {},
   "source": [
    "3\\. Write a program to determine the underflow and overflow limits (within a factor of 2) for python on your computer. \n",
    "\n",
    "**Tips**: define two variables inizialized to 1 and halve/double them enough time to exceed the under/over-flow limits  "
   ]
  },
  {
   "cell_type": "code",
   "execution_count": 71,
   "metadata": {},
   "outputs": [
    {
     "name": "stdout",
     "output_type": "stream",
     "text": [
      "a= 9.094947017729282e-13 b= 1099511627776\n",
      "a= 4.1359030627651384e-25 b= 2417851639229258349412352\n",
      "a= 9.4039548065783e-38 b= 10633823966279326983230456482242756608\n",
      "a= 1.0691058840368783e-50 b= 93536104789177786765035829293842113257979682750464\n",
      "a= 6.077163357286271e-64 b= 1645504557321206042154969182557350504982735865633579863348609024\n"
     ]
    }
   ],
   "source": [
    "a = 1\n",
    "b = 1\n",
    "for i in range (40,45):\n",
    "    a = a * (2**(-i))\n",
    "    b = b * 2**i\n",
    "    print(\"a=\",a,\"b=\",b)"
   ]
  },
  {
   "cell_type": "markdown",
   "metadata": {},
   "source": [
    "4\\. Write a program to determine the machine precision\n",
    "\n",
    "**Tips**: define a new variable by adding a smaller and smaller value (proceeding similarly to prob. 2) to an original variable and check the point where the two are the same "
   ]
  },
  {
   "cell_type": "code",
   "execution_count": 60,
   "metadata": {},
   "outputs": [
    {
     "name": "stdout",
     "output_type": "stream",
     "text": [
      "For delta  1e-13  the two numbers are different\n",
      "For delta  1e-14  the two numbers are different\n",
      "For delta  1e-15  the two numbers are different\n",
      "For delta  1e-16  the two numbers are the same\n",
      "For delta  1e-17  the two numbers are the same\n",
      "For delta  1e-18  the two numbers are the same\n"
     ]
    }
   ],
   "source": [
    "b = 2\n",
    "for i in range (13,19):\n",
    "    c = b + 10**(-i)\n",
    "    #print (b + 10**(-i)==2)\n",
    "    if b == c:\n",
    "        print(\"For delta \", 10**(-i), \" the two numbers are the same\")\n",
    "    else:\n",
    "        print(\"For delta \", 10**(-i), \" the two numbers are different\")"
   ]
  },
  {
   "cell_type": "markdown",
   "metadata": {},
   "source": [
    "5\\. Write a function that takes in input three parameters $a$, $b$ and $c$ and prints out the two solutions to the quadratic equation $ax^2+bx+c=0$ using the standard formula:\n",
    "$$\n",
    "x=\\frac{-b\\pm\\sqrt{b^2-4ac}}{2a}\n",
    "$$\n",
    "\n",
    "(a) use the program to compute the solution for $a=0.001$, $b=1000$ and $c=0.001$\n",
    "\n",
    "(b) re-express the standard solution formula by multiplying top and bottom by $-b\\mp\\sqrt{b^2-4ac}$ and again find the solution for $a=0.001$, $b=1000$ and $c=0.001$. How does it compare with what previously obtained? Why?\n",
    "\n",
    "(c) write a function that compute the roots of a quadratic equation accurately in all cases"
   ]
  },
  {
   "cell_type": "code",
   "execution_count": 12,
   "metadata": {},
   "outputs": [
    {
     "name": "stdout",
     "output_type": "stream",
     "text": [
      "The roots with the standard method are -999999.999999 -9.999894245993346e-07\n",
      "The roots with the alternative method are -1000010.5755125057 -1.000000000001e-06\n"
     ]
    }
   ],
   "source": [
    "import math as m\n",
    "def poly(a,b,c):\n",
    "    x1 = (-b -m.sqrt(pow(b,2)-4*a*c))/(2*a)\n",
    "    x2 = (-b +m.sqrt(pow(b,2)-4*a*c))/(2*a)\n",
    "    print(\"The roots with the standard method are\", x1, x2)\n",
    "\n",
    "def poly2(a,b,c):\n",
    "    x1 = (2*c)/(-b +m.sqrt(pow(b,2)-4*a*c))\n",
    "    x2 = (2*c)/(-b -m.sqrt(pow(b,2)-4*a*c))\n",
    "    print(\"The roots with the alternative method are\", x1, x2)\n",
    "    \n",
    "poly(0.001,1000,0.001)\n",
    "poly2(0.001,1000,0.001)\n",
    "#poly(1,2,1)\n",
    "#poly2(1,2,1)"
   ]
  },
  {
   "cell_type": "markdown",
   "metadata": {},
   "source": [
    "6\\. Write a program that implements the function $f(x)=x(x−1)$\n",
    "\n",
    "(a) Calculate the derivative of the function at the point $x = 1$ using the derivative definition:\n",
    "\n",
    "$$\n",
    "\\frac{{\\rm d}f}{{\\rm d}x} = \\lim_{\\delta\\to0} \\frac{f(x+\\delta)-f(x)}{\\delta}\n",
    "$$\n",
    "\n",
    "with $\\delta = 10^{−2}$. Calculate the true value of the same derivative analytically and compare with the answer your program gives. The two will not agree perfectly. Why not?\n",
    "\n",
    "(b) Repeat the calculation for $\\delta = 10^{−4}, 10^{−6}, 10^{−8}, 10^{−10}, 10^{−12}$ and $10^{−14}$. How does the accuracy scales with $\\delta$?"
   ]
  },
  {
   "cell_type": "code",
   "execution_count": 22,
   "metadata": {},
   "outputs": [
    {
     "name": "stdout",
     "output_type": "stream",
     "text": [
      "[1.0000999999998899, 1.0000009999177333, 1.0000000039225287, 1.000000082840371, 1.0000889005833413, 0.9992007221626509]\n"
     ]
    }
   ],
   "source": [
    "def f(x):\n",
    "    y = x * (x-1)\n",
    "    return y\n",
    "\n",
    "def der(x,d):\n",
    "    y1 = (f(x+d)-f(x))/d\n",
    "    return y1\n",
    "\n",
    "a = [der(1,10**(-2*i)) for i in range (2,8)]\n",
    "\n",
    "print (a)\n"
   ]
  },
  {
   "cell_type": "markdown",
   "metadata": {},
   "source": [
    "7\\. Consider the integral of the semicircle of radius 1:\n",
    "$$\n",
    "I=\\int_{-1}^{1} \\sqrt(1-x^2) {\\rm d}x\n",
    "$$\n",
    "which it's known to be $I=\\frac{\\pi}{2}=1.57079632679...$.\n",
    "Alternatively we can use the Riemann definition of the integral:\n",
    "$$\n",
    "I=\\lim_{N\\to\\infty} \\sum_{k=1}^{N} h y_k \n",
    "$$\n",
    "\n",
    "with $h=2/N$ the width of each of the $N$ slices the domain is divided into and where\n",
    "$y_k$ is the value of the function at the $k-$th slice.\n",
    "\n",
    "(a) Write a programe to compute the integral with $N=100$. How does the result compares to the true value?\n",
    "\n",
    "(b) How much can $N$ be increased if the computation needs to be run in less than a second? What is the gain in running it for 1 minute? \n"
   ]
  },
  {
   "cell_type": "code",
   "execution_count": 63,
   "metadata": {},
   "outputs": [
    {
     "name": "stdout",
     "output_type": "stream",
     "text": [
      "1.5707962267761797\n",
      "Errore del -6.367389682182534e-06 %\n"
     ]
    }
   ],
   "source": [
    "import math as m\n",
    "def f(x): return (m.sqrt(1-x**2))\n",
    "\n",
    "def I(N):\n",
    "    a=0\n",
    "    for k in range (1,N+1):\n",
    "        a = a + (2/N)*f(k/N)\n",
    "    return a\n",
    "N = 10000000\n",
    "b=I(N)\n",
    "print(b)\n",
    "print(\"Errore del\",100*(1-(m.pi/2)/(b)),'%')\n",
    "#%timeit I(N)"
   ]
  },
  {
   "cell_type": "code",
   "execution_count": null,
   "metadata": {},
   "outputs": [],
   "source": []
  }
 ],
 "metadata": {
  "kernelspec": {
   "display_name": "Python 3 (ipykernel)",
   "language": "python",
   "name": "python3"
  },
  "language_info": {
   "codemirror_mode": {
    "name": "ipython",
    "version": 3
   },
   "file_extension": ".py",
   "mimetype": "text/x-python",
   "name": "python",
   "nbconvert_exporter": "python",
   "pygments_lexer": "ipython3",
   "version": "3.9.12"
  }
 },
 "nbformat": 4,
 "nbformat_minor": 2
}
