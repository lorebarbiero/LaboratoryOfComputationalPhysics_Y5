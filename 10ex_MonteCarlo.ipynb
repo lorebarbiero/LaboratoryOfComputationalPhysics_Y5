{
 "cells": [
  {
   "cell_type": "code",
   "execution_count": 2,
   "metadata": {},
   "outputs": [],
   "source": [
    "import numpy as np\n",
    "import matplotlib.pyplot as plt\n",
    "import numpy.random as npr"
   ]
  },
  {
   "cell_type": "markdown",
   "metadata": {},
   "source": [
    "1\\. **Radioactive decay chain**\n",
    "\n",
    "${\\rm Tl}^{208}$ decays to ${\\rm Pb}^{208}$ with a half-lieve of 3.052 minutes. Suppose to start with a sample of 1000 Thallium atoms and 0 of Lead atoms.\n",
    "\n",
    "* Take steps in time of 1 second and at each time-step decide whether each Tl atom has decayed or not, accordingly to the probability $p(t)=1-2^{-t/\\tau}$. Subtract the total number of Tl atoms that decayed at each step from the Tl sample and add them to the Lead one. Plot the evolution of the two sets as a function of time  \n",
    "* Repeat the exercise by means of the inverse transform method: draw 1000 random numbers from the non-uniform probability distribution $p(t)=2^{-t/\\tau}\\frac{\\ln 2}{\\tau}$ to represent the times of decay of the 1000 Tl atoms. Make a plot showing the number of atoms that have not decayed as a function of time"
   ]
  },
  {
   "cell_type": "code",
   "execution_count": 11,
   "metadata": {},
   "outputs": [
    {
     "data": {
      "text/plain": [
       "[<matplotlib.lines.Line2D at 0x7f9261a4bf40>]"
      ]
     },
     "execution_count": 11,
     "metadata": {},
     "output_type": "execute_result"
    },
    {
     "data": {
      "image/png": "[encoded data removed]",
      "text/plain": [
       "<Figure size 432x288 with 1 Axes>"
      ]
     },
     "metadata": {
      "needs_background": "light"
     },
     "output_type": "display_data"
    }
   ],
   "source": [
    "def p(t,tau):\n",
    "    return 1-2**(-t/tau)\n",
    "\n",
    "Tl=[1000]\n",
    "Pb=[0]\n",
    "tau=(180.052)/np.log(2)\n",
    "\n",
    "for i in range (0,1500):\n",
    "    count = 0\n",
    "    dec = npr.rand(Tl[i])\n",
    "    for j in dec:\n",
    "        if j<p(1,tau):\n",
    "            count +=1\n",
    "    Tl.append(Tl[i]-count)\n",
    "    Pb.append(Pb[i]+count)\n",
    "plt.plot(Tl)\n",
    "plt.plot(Pb)"
   ]
  },
  {
   "cell_type": "markdown",
   "metadata": {},
   "source": [
    "2\\. **Rutherford Scattering**\n",
    "\n",
    "The scattering angle $\\theta$ of $\\alpha$ particles hitting a positively charged nucleus of a Gold atom ($Z=79$) follows the rule:\n",
    "\n",
    "$$\n",
    "\\tan{\\frac{1}{2} \\theta} = \\frac{Z e^2} {2\\pi \\epsilon_0 E b}\n",
    "$$\n",
    "\n",
    "where $E=7.7$ MeV and $b$ beam is the impact parameter. The beam is represented by a 2D gaussian distribution with $\\sigma=a_0/100$ for both coordinates ($a_0$ being the Bohr radius). Assume 1 million $\\alpha$ particles are shot on the gold atom.\n",
    "\n",
    "Computing the fraction of particles that \"bounce back\",i.e. those particle whose scattering angle is greater than $\\pi/2$ (which set a condition on the impact parameter $b$)"
   ]
  },
  {
   "cell_type": "code",
   "execution_count": 18,
   "metadata": {},
   "outputs": [
    {
     "data": {
      "text/plain": [
       "(array([861., 111.,  17.,   5.,   2.,   0.,   3.,   0.,   0.,   1.]),\n",
       " array([0.03129182, 0.23017358, 0.42905534, 0.62793711, 0.82681887,\n",
       "        1.02570063, 1.2245824 , 1.42346416, 1.62234593, 1.82122769,\n",
       "        2.02010945]),\n",
       " <BarContainer object of 10 artists>)"
      ]
     },
     "execution_count": 18,
     "metadata": {},
     "output_type": "execute_result"
    },
    {
     "data": {
      "image/png": "[encoded data removed]",
      "text/plain": [
       "<Figure size 432x288 with 1 Axes>"
      ]
     },
     "metadata": {
      "needs_background": "light"
     },
     "output_type": "display_data"
    }
   ],
   "source": [
    "def theta(b):\n",
    "    return 2*np.arctan((2*79*1.902e-19*9e9)/(b*7.7e6))\n",
    "def r(z,sigma):\n",
    "    return (-2 * sigma**2 * np.log(1-z))**0.5\n",
    "sigma = 5.29e-13\n",
    "z = npr.rand(1000)\n",
    "b = r(z,sigma)\n",
    "theta = theta(b)\n",
    "plt.hist(b)\n",
    "plt.hist(theta)"
   ]
  },
  {
   "cell_type": "markdown",
   "metadata": {},
   "source": [
    "3\\. **Monte Carlo integration: hit/miss vs mean value method**\n",
    "\n",
    "Consider the function \n",
    "\n",
    "$$f(x) =\\sin^2{\\frac{1}{x(2-x)}}$$\n",
    "\n",
    "* Compute the integral of $f(x)$ between 0 and 2 with the hit/miss method. Evaluate the error of your estimate\n",
    "* Repeat the integral with the mean value method. Evaluate the error and compare it with the previous one"
   ]
  },
  {
   "cell_type": "code",
   "execution_count": null,
   "metadata": {},
   "outputs": [],
   "source": []
  },
  {
   "cell_type": "markdown",
   "metadata": {},
   "source": [
    "4\\. **Monte Carlo integration in high dimension**\n",
    "\n",
    "* Start of by computing the area of a circle of unit radius, by integrating the function \n",
    "\n",
    "$$\n",
    "f(x,y)=\n",
    "\\left\\{\n",
    "\\begin{array}{ll}\n",
    "      1 & x^2+y^2\\le 1 \\\\\n",
    "      0 & {\\rm elsewhere}\n",
    "\\end{array} \n",
    "\\right.\n",
    "$$\n",
    "\n",
    "* Generalize the result for a 10D sphere\n",
    "\n"
   ]
  },
  {
   "cell_type": "code",
   "execution_count": null,
   "metadata": {},
   "outputs": [],
   "source": []
  },
  {
   "cell_type": "markdown",
   "metadata": {},
   "source": [
    "5\\. **Monte Carlo integration with importance sampling** \n",
    "\n",
    "Calculate the value of the integral:\n",
    "\n",
    "$$\n",
    "I=\\int_0^1 \\frac{x^{-1/2}}{e^x+1} dx\n",
    "$$\n",
    "\n",
    "using the importance sampling method with $w(x)=1/\\sqrt{x}$. You should get a result about 0.84"
   ]
  },
  {
   "cell_type": "code",
   "execution_count": null,
   "metadata": {},
   "outputs": [],
   "source": []
  }
 ],
 "metadata": {
  "kernelspec": {
   "display_name": "Python 3 (ipykernel)",
   "language": "python",
   "name": "python3"
  },
  "language_info": {
   "codemirror_mode": {
    "name": "ipython",
    "version": 3
   },
   "file_extension": ".py",
   "mimetype": "text/x-python",
   "name": "python",
   "nbconvert_exporter": "python",
   "pygments_lexer": "ipython3",
   "version": "3.9.12"
  }
 },
 "nbformat": 4,
 "nbformat_minor": 2
}
