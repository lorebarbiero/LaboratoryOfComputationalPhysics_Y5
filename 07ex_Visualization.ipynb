{
 "cells": [
  {
   "cell_type": "markdown",
   "metadata": {},
   "source": [
    "1\\. **Kernel Density Estimate**\n",
    "\n",
    "Produce a KDE for a given distribution (by hand, not using seaborn!):\n",
    "\n",
    "* Fill a numpy array, x,  of len(N) (with N=O(100)) with a variable normally distributed, with a given mean and standard deviation\n",
    "* Fill an histogram in pyplot taking properly care about the aesthetic\n",
    "   * use a meaningful number of bins\n",
    "   * set a proper y axis label\n",
    "   * set proper value of y axis major ticks labels (e.g. you want to display only integer labels)\n",
    "   * display the histograms as data points with errors (the error being the poisson uncertainty)\n",
    "* for every element of x, create a gaussian with the mean corresponding the element value and std as a parameter that can be tuned. The std default value should be:\n",
    "$$ 1.06 * x.std() * x.size ^{-\\frac{1}{5.}} $$\n",
    "you can use the scipy function `stats.norm()` for that.\n",
    "* In a separate plot (to be placed beside the original histogram), plot all the gaussian functions so obtained\n",
    "* Sum (with np.sum()) all the gaussian functions and normalize the result such that the integral matches the integral of the original histogram. For that you could use the `scipy.integrate.trapz()` method\n"
   ]
  },
  {
   "cell_type": "code",
   "execution_count": 11,
   "metadata": {},
   "outputs": [
    {
     "ename": "NameError",
     "evalue": "name 'x_next' is not defined",
     "output_type": "error",
     "traceback": [
      "\u001b[0;31m---------------------------------------------------------------------------\u001b[0m",
      "\u001b[0;31mNameError\u001b[0m                                 Traceback (most recent call last)",
      "Input \u001b[0;32mIn [11]\u001b[0m, in \u001b[0;36m<cell line: 47>\u001b[0;34m()\u001b[0m\n\u001b[1;32m     46\u001b[0m \u001b[38;5;66;03m# Loop over the simulation time, using the equations of motion to update the positions and velocities of the particles at each time step\u001b[39;00m\n\u001b[1;32m     47\u001b[0m \u001b[38;5;28;01mfor\u001b[39;00m t \u001b[38;5;129;01min\u001b[39;00m \u001b[38;5;28mrange\u001b[39m(t_total):\n\u001b[1;32m     48\u001b[0m     \u001b[38;5;66;03m# Use the Euler method to approximate the evolution of the system\u001b[39;00m\n\u001b[0;32m---> 49\u001b[0m     \u001b[43mx_next\u001b[49m[\u001b[38;5;241m1\u001b[39m:N\u001b[38;5;241m-\u001b[39m\u001b[38;5;241m1\u001b[39m], v_next \u001b[38;5;241m=\u001b[39m fpu_model(x, v, k, m)\n\u001b[1;32m     51\u001b[0m     \u001b[38;5;66;03m# Update the positions and velocities of the particles\u001b[39;00m\n\u001b[1;32m     52\u001b[0m     x \u001b[38;5;241m=\u001b[39m x_next\n",
      "\u001b[0;31mNameError\u001b[0m: name 'x_next' is not defined"
     ]
    }
   ],
   "source": [
    "# Import necessary modules\n",
    "import numpy as np\n",
    "import matplotlib.pyplot as plt\n",
    "import numpy.random as npr\n",
    "\n",
    "# Define the number of particles and the spatial step size\n",
    "N = 100\n",
    "l = 1\n",
    "\n",
    "# Define the initial positions and velocities of the particles\n",
    "# Assume that the particles are equally spaced and have equal initial velocities\n",
    "x0 = np.linspace(0, (N - 1) * l, N)\n",
    "#v0 = np.ones(N)\n",
    "v0 = npr.normal(loc=0.0, scale=1.0, size=N-2)\n",
    "# Define the FPU model parameters\n",
    "k = 1  # Spring constant\n",
    "m = 1  # Mass of each particle\n",
    "\n",
    "# Define the time step size and the total simulation time\n",
    "dt = 0.01\n",
    "t_total = 100\n",
    "\n",
    "# Define the equations of motion for the FPU model\n",
    "# These equations describe how the positions and velocities of the particles evolve over time\n",
    "def fpu_model(x, v, k, m):\n",
    "    # Compute the forces acting on each particle\n",
    "    forces = -k * (x[1:] - x[:-1]) + k * (x[1:] - x[:-1])\n",
    "\n",
    "    # Compute the accelerations of each particle\n",
    "    a = forces / m\n",
    "\n",
    "    # Use the equations of motion to update the positions and velocities of the particles\n",
    "    x_next = x[1:N-1] + v * dt\n",
    "    v_next = v + a[1:N-1] * dt\n",
    "\n",
    "    return x_next, v_next\n",
    "\n",
    "# Initialize the positions and velocities of the particles\n",
    "x = x0\n",
    "v = v0\n",
    "\n",
    "# Initialize the arrays for storing the normal mode amplitudes at each time step\n",
    "a = np.zeros((t_total, N))\n",
    "b = np.zeros((t_total, N))\n",
    "\n",
    "# Loop over the simulation time, using the equations of motion to update the positions and velocities of the particles at each time step\n",
    "for t in range(t_total):\n",
    "    # Use the Euler method to approximate the evolution of the system\n",
    "    x_next[1:N-1], v_next = fpu_model(x, v, k, m)\n",
    "\n",
    "    # Update the positions and velocities of the particles\n",
    "    x = x_next\n",
    "    v = v_next\n",
    "\n",
    "    # Compute the normal mode decomposition of the FPU model at this time step\n",
    "    a[t, :], b[t, :] = normal_mode_decomposition(x, v, k, m)\n",
    "\n",
    "# Compute the contributions of the first 7 normal modes at each time step\n",
    "contributions = np.abs(a[:, :7])**2 + np.abs(b[:, :7])**2\n",
    "\n",
    "# Plot the contributions of the first 7 normal modes at each time step\n",
    "plt.figure()\n",
    "for i in range(7):\n",
    "    plt.plot(contributions[:, i], label=\"Normal mode %d\" % (i + 1))\n",
    "plt.xlabel(\"Time step\")\n",
    "plt.ylabel(\"Contribution\")\n",
    "plt.legend()\n",
    "plt.show()\n"
   ]
  },
  {
   "cell_type": "code",
   "execution_count": 2,
   "metadata": {},
   "outputs": [
    {
     "ename": "TypeError",
     "evalue": "only integer scalar arrays can be converted to a scalar index",
     "output_type": "error",
     "traceback": [
      "\u001b[0;31m---------------------------------------------------------------------------\u001b[0m",
      "\u001b[0;31mTypeError\u001b[0m                                 Traceback (most recent call last)",
      "Input \u001b[0;32mIn [2]\u001b[0m, in \u001b[0;36m<cell line: 24>\u001b[0;34m()\u001b[0m\n\u001b[1;32m     21\u001b[0m std_default \u001b[38;5;241m=\u001b[39m \u001b[38;5;241m1.06\u001b[39m \u001b[38;5;241m*\u001b[39m x\u001b[38;5;241m.\u001b[39mstd() \u001b[38;5;241m*\u001b[39m x\u001b[38;5;241m.\u001b[39msize \u001b[38;5;241m*\u001b[39m\u001b[38;5;241m*\u001b[39m (\u001b[38;5;241m-\u001b[39m\u001b[38;5;241m1\u001b[39m\u001b[38;5;241m/\u001b[39m\u001b[38;5;241m5\u001b[39m)\n\u001b[1;32m     23\u001b[0m kde \u001b[38;5;241m=\u001b[39m np\u001b[38;5;241m.\u001b[39mzeros_like(x)\n\u001b[0;32m---> 24\u001b[0m \u001b[38;5;28;01mfor\u001b[39;00m i \u001b[38;5;129;01min\u001b[39;00m \u001b[38;5;28;43mrange\u001b[39;49m\u001b[43m(\u001b[49m\u001b[43mbins\u001b[49m\u001b[43m)\u001b[49m:\n\u001b[1;32m     25\u001b[0m     \u001b[38;5;28;01mfor\u001b[39;00m j \u001b[38;5;129;01min\u001b[39;00m \u001b[38;5;28mrange\u001b[39m(bins):\n\u001b[1;32m     26\u001b[0m         kde[i] \u001b[38;5;241m+\u001b[39m\u001b[38;5;241m=\u001b[39m norm\u001b[38;5;241m.\u001b[39mpdf(x[j], loc\u001b[38;5;241m=\u001b[39mx[j], scale\u001b[38;5;241m=\u001b[39mstd_default)\n",
      "\u001b[0;31mTypeError\u001b[0m: only integer scalar arrays can be converted to a scalar index"
     ]
    },
    {
     "data": {
      "image/png": "[encoded data removed]",
      "text/plain": [
       "<Figure size 432x288 with 1 Axes>"
      ]
     },
     "metadata": {
      "needs_background": "light"
     },
     "output_type": "display_data"
    }
   ],
   "source": [
    "import numpy as np\n",
    "from scipy.stats import norm\n",
    "from scipy.integrate import trapz\n",
    "import matplotlib.pyplot as plt\n",
    "\n",
    "mean = 5\n",
    "std = 2\n",
    "\n",
    "N = 1000\n",
    "x = np.random.normal(mean, std, N)\n",
    "\n",
    "plt.hist(x, bins=20, label=\"Histogram of x\")\n",
    "plt.ylabel(\"Frequency\")\n",
    "\n",
    "hist, bins = np.histogram(x, bins=20)\n",
    "errors = np.sqrt(hist)\n",
    "bin_centers = (bins[:-1] + bins[1:]) / 2\n",
    "\n",
    "plt.errorbar(bin_centers, hist, yerr=errors, fmt=\"o\", label=\"Histogram with Poisson uncertainty\")\n",
    "\n",
    "std_default = 1.06 * x.std() * x.size ** (-1/5)\n",
    "\n",
    "kde = np.zeros_like(x)\n",
    "for i in range(bins):\n",
    "    for j in range(bins):\n",
    "        kde[i] += norm.pdf(x[j], loc=x[j], scale=std_default)\n",
    "\n",
    "plt.plot(x, kde, label=\"KDE\")\n",
    "\n",
    "area_kde = trapz(kde, x)\n",
    "area_hist = trapz(hist, bin_centers)\n",
    "\n",
    "kde /= area_kde / area_hist\n",
    "\n",
    "plt.plot(x, kde, label=\"Normalized KDE\")\n",
    "plt.legend()\n",
    "plt.show()\n"
   ]
  },
  {
   "cell_type": "code",
   "execution_count": null,
   "metadata": {},
   "outputs": [],
   "source": [
    "import matplotlib.pyplot as plt\n",
    "%matplotlib inline\n",
    "import numpy as np\n",
    "import pandas as pd\n",
    "import numpy.random as npr\n",
    "from scipy.stats import norm"
   ]
  },
  {
   "cell_type": "code",
   "execution_count": null,
   "metadata": {},
   "outputs": [],
   "source": [
    "N = 1000\n",
    "a = npr.normal(loc=0.0, scale=1.0, size=N)\n",
    "rosino = 'plum'\n",
    "\n",
    "fig, (ax1) = plt.subplots(nrows=1, ncols=1, figsize=(12, 7))\n",
    "b = ax1.hist(a, bins= N//20,label='x', color=rosino)\n",
    "bincent = (b[1][:-1]+b[1][1:])/2\n",
    "ax1.errorbar(bincent, b[0], yerr=b[0]**0.5, ecolor='indigo', elinewidth=2, capsize=4, linewidth=0)\n",
    "ax1.set_xlabel('$Value$')\n",
    "ax1.set_ylabel('$Counts$')"
   ]
  },
  {
   "cell_type": "code",
   "execution_count": null,
   "metadata": {},
   "outputs": [],
   "source": [
    "dev = 1.06 * a.std() * a.size**(-1/5)\n",
    "gaus = norm.pdf(0, a, dev)\n",
    "sm = np.sum(gaus)\n",
    "fig, (ax2) = plt.subplots(nrows=1, ncols=1, figsize=(12, 7))\n",
    "#b = ax2.plot(gaus)\n",
    "#ax2.plot(sm)"
   ]
  },
  {
   "cell_type": "code",
   "execution_count": null,
   "metadata": {},
   "outputs": [],
   "source": [
    "fig, (ax2) = plt.subplots(nrows=1, ncols=1, figsize=(12, 7))\n",
    "std = 2\n",
    "gaus = []\n",
    "for i in a:\n",
    "    gaus.append(norm(i,std))\n",
    "    \n",
    "xrange = np.linspace(-10,10,1000)\n",
    "for n in gaus:\n",
    "    ax2.plot(xrange, n.pdf(xrange))\n",
    "    \n",
    "f_x = np.zeros((N,N))\n",
    "for i in range (N):\n",
    "    "
   ]
  },
  {
   "cell_type": "markdown",
   "metadata": {},
   "source": [
    "2\\. **Color-coded scatter plot**\n",
    "\n",
    "Produce a scatter plot out of a dataset with two categories\n",
    "\n",
    "* Write a function that generate a 2D datasets of 2 categories. Each category should distribute as a 2D gaussian with a given mean and std (clearly it is better to have different values means..)\n",
    "* Display the dataset in a scatter plot marking the two categories with different marker colors.\n",
    "\n",
    "An example is given below\n",
    "\n",
    "You can try to make the procedure more general by allowing a given number $n\\ge 2$ of categories"
   ]
  },
  {
   "cell_type": "code",
   "execution_count": null,
   "metadata": {},
   "outputs": [],
   "source": [
    "! wget https://www.dropbox.com/s/u4y3k4kk5tc7j46/two_categories_scatter_plot.png\n",
    "from IPython.display import Image\n",
    "Image('two_categories_scatter_plot.png')"
   ]
  },
  {
   "cell_type": "markdown",
   "metadata": {},
   "source": [
    "3\\. **Profile plot**\n",
    "\n",
    "Produce a profile plot from a scatter plot.\n",
    "* Download the following dataset and load it as a pandas dataframe:\n",
    "```bash\n",
    "wget https://www.dropbox.com/s/hgnvyj9abatk8g6/residuals_261.npy\n",
    "```\n",
    "Note that you should use the `np.load()` function to load the file as a numpy array, call the `.item()` method, and then pass it to the `pd.DataFrame()` constructor.\n",
    "* Inspect the dataset, you'll find two variables (features)\n",
    "* Clean the sample by selecting the entries (rows) with the variable \"residual\" in absolute value smaller than 2\n",
    "* perform a linear regression of \"residuals\" versus \"distances\" using `scipy.stats.linregress()` \n",
    "* plot a seaborn jointplot of  \"residuals\" versus \"distances\", having seaborn performing a linear regression. The result of the regression should be displayed on the plot\n",
    "* Fill 3 numpy arrays\n",
    "  * x, serving as an array of bin centers for the \"distance\" variable. It should range from 0 to 20 with reasonable number of steps (bins)\n",
    "  * y, the mean values of the \"residuals\", estimated in slices (bins) of \"distance\"\n",
    "  * erry, the standard deviation of the  of the \"residuals\", estimated in slices (bins) of \"distance\"\n",
    "* Plot the profile plot on top of the scatter plot"
   ]
  },
  {
   "cell_type": "code",
   "execution_count": null,
   "metadata": {},
   "outputs": [],
   "source": []
  }
 ],
 "metadata": {
  "kernelspec": {
   "display_name": "Python 3 (ipykernel)",
   "language": "python",
   "name": "python3"
  },
  "language_info": {
   "codemirror_mode": {
    "name": "ipython",
    "version": 3
   },
   "file_extension": ".py",
   "mimetype": "text/x-python",
   "name": "python",
   "nbconvert_exporter": "python",
   "pygments_lexer": "ipython3",
   "version": "3.9.12"
  }
 },
 "nbformat": 4,
 "nbformat_minor": 2
}
